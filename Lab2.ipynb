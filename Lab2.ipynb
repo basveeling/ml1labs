{
 "metadata": {
  "kernelspec": {
   "codemirror_mode": {
    "name": "ipython",
    "version": 2
   },
   "display_name": "IPython (Python 2)",
   "language": "python",
   "name": "python2"
  },
  "name": "",
  "signature": "sha256:c853db2f97044aa8c70ac0650d3a925dc9880b5ff562e32ae054fca71258a3bd"
 },
 "nbformat": 3,
 "nbformat_minor": 0,
 "worksheets": [
  {
   "cells": [
    {
     "cell_type": "markdown",
     "metadata": {},
     "source": [
      "# Lab 2: Classification\n",
      "\n",
      "### Machine Learning and Pattern Recognition, September 2014\n",
      "\n",
      "* The lab exercises should be made in groups of two or three people.\n",
      "* The deadline is October 5th (sunday) 23:59.\n",
      "* Assignment should be sent to taco.cohen@gmail.com. The subject line of your email should be \"lab\\#\\_lastname1\\_lastname2\\_lastname3\".\n",
      "* Put your and your teammates' names in the body of the email\n",
      "* Attach the .IPYNB (IPython Notebook) file containing your code and answers. Naming of the file follows the same rule as the subject line. For example, if the subject line is \"lab01\\_Kingma\\_Hu\", the attached file should be \"lab01\\_Kingma\\_Hu.ipynb\". Only use underscores (\"\\_\") to connect names, otherwise the files cannot be parsed.\n",
      "\n",
      "Notes on implementation:\n",
      "\n",
      "* You should write your code and answers in an IPython Notebook: http://ipython.org/notebook.html. If you have problems, please contact us.\n",
      "* Among the first lines of your notebook should be \"%pylab inline\". This imports all required modules, and your plots will appear inline.\n",
      "* NOTE: Make sure we can run your notebook / scripts!\n",
      "\n",
      "$\\newcommand{\\bx}{\\mathbf{x}}$\n",
      "$\\newcommand{\\bw}{\\mathbf{w}}$\n",
      "$\\newcommand{\\bt}{\\mathbf{t}}$\n",
      "$\\newcommand{\\by}{\\mathbf{y}}$\n",
      "$\\newcommand{\\bm}{\\mathbf{m}}$\n",
      "$\\newcommand{\\bb}{\\mathbf{b}}$\n",
      "$\\newcommand{\\bS}{\\mathbf{S}}$\n",
      "$\\newcommand{\\ba}{\\mathbf{a}}$\n",
      "$\\newcommand{\\bz}{\\mathbf{z}}$\n",
      "$\\newcommand{\\bv}{\\mathbf{v}}$\n",
      "$\\newcommand{\\bq}{\\mathbf{q}}$\n",
      "$\\newcommand{\\bp}{\\mathbf{p}}$\n",
      "$\\newcommand{\\bh}{\\mathbf{h}}$\n",
      "\n",
      "$\\newcommand{\\bI}{\\mathbf{I}}$\n",
      "$\\newcommand{\\bX}{\\mathbf{X}}$\n",
      "$\\newcommand{\\bT}{\\mathbf{T}}$\n",
      "$\\newcommand{\\bPhi}{\\mathbf{\\Phi}}$\n",
      "$\\newcommand{\\bW}{\\mathbf{W}}$\n",
      "$\\newcommand{\\bV}{\\mathbf{V}}$"
     ]
    },
    {
     "cell_type": "code",
     "collapsed": false,
     "input": [
      "%pylab inline\n",
      "import gzip, cPickle\n",
      "# SOURCE: http://www.iro.umontreal.ca/~memisevr/code/logreg.py\n",
      "def onehot(x,numclasses=None):\n",
      "    \"\"\" Convert integer encoding for class-labels (starting with 0 !)\n",
      "        to one-hot encoding. \n",
      "      \n",
      "        If numclasses (the number of classes) is not provided, it is assumed \n",
      "        to be equal to the largest class index occuring in the labels-array + 1.\n",
      "        The output is an array who's shape is the shape of the input array plus\n",
      "        an extra dimension, containing the 'one-hot'-encoded labels. \n",
      "    \"\"\"\n",
      "    if x.shape==():\n",
      "        x = x[None]\n",
      "    if numclasses is None:\n",
      "        numclasses = x.max() + 1\n",
      "    result = numpy.zeros(list(x.shape) + [numclasses], dtype=\"int\")\n",
      "    z = numpy.zeros(x.shape)\n",
      "    for c in range(numclasses):\n",
      "        z *= 0\n",
      "        z[numpy.where(x==c)] = 1\n",
      "        result[...,c] += z\n",
      "    return result"
     ],
     "language": "python",
     "metadata": {},
     "outputs": [
      {
       "output_type": "stream",
       "stream": "stdout",
       "text": [
        "Populating the interactive namespace from numpy and matplotlib\n"
       ]
      }
     ],
     "prompt_number": 2
    },
    {
     "cell_type": "markdown",
     "metadata": {},
     "source": [
      "# Part 1. Multiclass logistic regression\n",
      "\n",
      "Scenario: you have a friend with one big problem: she's completely blind. You decided to help her: she has a special smartphone for blind people, and you are going to develop a mobile phone app that can do _machine vision_ using the mobile camera: converting a picture (from the camera) to the meaning of the image. You decide to start with an app that can read handwritten digits, i.e. convert an image of handwritten digits to text (e.g. it would enable her to read precious handwritten phone numbers).\n",
      "\n",
      "A key building block for such an app would be a function `predict_digit(x)` that returns the digit class of an image patch $\\bx$. Since hand-coding this function is highly non-trivial, you decide to solve this problem using machine learning, such that the internal parameters of this function are automatically learned using machine learning techniques.\n",
      "\n",
      "The dataset you're going to use for this is the MNIST handwritten digits dataset (`http://yann.lecun.com/exdb/mnist/`). You can load the data from `mnist.pkl.gz` we provided, using: "
     ]
    },
    {
     "cell_type": "code",
     "collapsed": false,
     "input": [
      "def load_mnist():\n",
      "\tf = gzip.open('mnist.pkl.gz', 'rb')\n",
      "\tdata = cPickle.load(f)\n",
      "\tf.close()\n",
      "\treturn data\n",
      "\n",
      "(x_train, t_train), (x_valid, t_valid), (x_test, t_test) = load_mnist()"
     ],
     "language": "python",
     "metadata": {},
     "outputs": [],
     "prompt_number": 3
    },
    {
     "cell_type": "markdown",
     "metadata": {},
     "source": [
      "The tuples represent train, validation and test sets. The first element (`x_train`, `x_valid`, `x_test`) of each tuple is a $N \\times M$ matrix, where $N$ is the number of datapoints and $M = 28^2 = 784$ is the dimensionality of the data. The second element (`t_train`, `t_valid`, `t_test`) of each tuple is the corresponding $N$-dimensional vector of integers, containing the true class labels.\n",
      "\n",
      "Here's a visualisation of the first 8 digits of the trainingset:"
     ]
    },
    {
     "cell_type": "code",
     "collapsed": false,
     "input": [
      "def plot_digits(data, numcols, shape=(28,28)):\n",
      "    numdigits = data.shape[0]\n",
      "    numrows = int(numdigits/numcols)\n",
      "    for i in range(numdigits):\n",
      "        plt.subplot(numrows, numcols, i)\n",
      "        plt.axis('off')\n",
      "        plt.imshow(data[i].reshape(shape), interpolation='nearest', cmap='Greys')\n",
      "    plt.show()\n",
      "    \n",
      "plot_digits(x_train[0:8], numcols=4)\n"
     ],
     "language": "python",
     "metadata": {},
     "outputs": [
      {
       "metadata": {},
       "output_type": "display_data",
       "png": "[encoded data removed]",
       "text": [
        "<matplotlib.figure.Figure at 0x104cd9510>"
       ]
      }
     ],
     "prompt_number": 4
    },
    {
     "cell_type": "markdown",
     "metadata": {},
     "source": [
      "In _multiclass_ logistic regression, the conditional probability of class label $j$ given the image $\\bx$ for some datapoint is given by:\n",
      "\n",
      "$ \\log p(t = j \\;|\\; \\bx, \\bb, \\bW) = \\log q_j - \\log Z$\n",
      "\n",
      "where $\\log q_j = \\bw_j^T \\bx + b_j$ (the log of the unnormalized probability of the class $j$), and $Z = \\sum_k q_k$ is the normalizing factor. $\\bw_j$ is the $j$-th column of $\\bW$ (a matrix of size $784 \\times 10$) corresponding to the class label, $b_j$ is the $j$-th element of $\\bb$.\n",
      "\n",
      "Given an input image, the multiclass logistic regression model first computes the intermediate vector $\\log \\bq$ (of size $10 \\times 1$), using $\\log q_j = \\bw_j^T \\bx + b_j$, containing the unnormalized log-probabilities per class. \n",
      "\n",
      "The unnormalized probabilities are then normalized by $Z$ such that $\\sum_j p_j = \\sum_j \\exp(\\log p_j) = 1$. This is done by $\\log p_j = \\log q_j - \\log Z$ where $Z = \\sum_j \\exp(\\log q_j)$. This is known as the _softmax_ transformation, and is also used as a last layer of many classifcation neural network models, to ensure that the output of the network is a normalized distribution, regardless of the values of second-to-last layer ($\\log \\bq$)\n",
      "\n",
      "Warning: when computing $\\log Z$, you are likely to encounter numerical problems. Save yourself countless hours of debugging and learn the [log-sum-exp trick](https://hips.seas.harvard.edu/blog/2013/01/09/computing-log-sum-exp/ \"Title\").\n",
      "\n",
      "The network's output $\\log \\bp$ of size $10 \\times 1$ then contains the conditional log-probabilities $\\log p(t = j \\;|\\; \\bx, \\bb, \\bW)$ for each digit class $j$. In summary, the computations are done in this order:\n",
      "\n",
      "$\\bx \\rightarrow \\log \\bq \\rightarrow Z \\rightarrow \\log \\bp$\n",
      "\n",
      "Given some dataset with $N$ independent, identically distributed datapoints, the log-likelihood is given by:\n",
      "\n",
      "$ \\mathcal{L}(\\bb, \\bW) = \\sum_{i=1}^N \\mathcal{L}^{(i)}$\n",
      "\n",
      "where we use $\\mathcal{L}^{(i)}$ to denote the partial log-likelihood evaluated over a single datapoint. It is important to see that the log-probability of the class label $t^{(i)}$ given the image, is given by the $t^{(i)}$-th element of the network's output $\\log \\bp$, denoted by $\\log p_{t^{(i)}}$:\n",
      "\n",
      "$\\mathcal{L}^{(i)} = \\log p(t = t^{(i)} \\;|\\; \\bx = \\bx^{(i)}, \\bb, \\bW) = \\log p_{t^{(i)}} = \\log q_{t^{(i)}} - \\log Z^{(i)}$\n",
      "\n",
      "where $\\bx^{(i)}$ and $t^{(i)}$ are the input (image) and class label (integer) of the $i$-th datapoint, and $Z^{(i)}$ is the normalizing constant for the distribution over $t^{(i)}$.\n"
     ]
    },
    {
     "cell_type": "markdown",
     "metadata": {},
     "source": [
      "## 1.1 Gradient-based stochastic optimization\n",
      "\n",
      "### 1.1.1 Derive gradient equations (20 points)\n",
      "\n",
      "Derive the equations for computing the (first) partial derivatives of the log-likelihood w.r.t. all the parameters, evaluated at a _single_ datapoint $i$.\n",
      "\n",
      "You should start deriving the equations for $\\frac{\\partial \\mathcal{L}^{(i)}}{\\partial \\log q_j}$ for each $j$. For clarity, we'll use the shorthand $\\delta^q_j = \\frac{\\partial \\mathcal{L}^{(i)}}{\\partial \\log q_j}$.\n",
      "\n",
      "For $j = t^{(i)}$:\n",
      "$\n",
      "\\delta^q_j\n",
      "= \\frac{\\partial \\mathcal{L}^{(i)}}{\\partial \\log p_j}\n",
      "\\frac{\\partial \\log p_j}{\\partial \\log q_j}\n",
      "+ \\frac{\\partial \\mathcal{L}^{(i)}}{\\partial \\log Z}\n",
      "\\frac{\\partial \\log Z}{\\partial Z} \n",
      "\\frac{\\partial Z}{\\partial \\log q_j} \n",
      "= 1 \\cdot 1 - \\frac{\\partial \\log Z}{\\partial Z} \n",
      "\\frac{\\partial Z}{\\partial \\log q_j}\n",
      "= 1 - \\frac{\\partial \\log Z}{\\partial Z} \n",
      "\\frac{\\partial Z}{\\partial \\log q_j}\n",
      "$\n",
      "\n",
      "For $j \\neq t^{(i)}$:\n",
      "$\n",
      "\\delta^q_j\n",
      "= \\frac{\\partial \\mathcal{L}^{(i)}}{\\partial \\log Z}\n",
      "\\frac{\\partial \\log Z}{\\partial Z} \n",
      "\\frac{\\partial Z}{\\partial \\log q_j} \n",
      "= - \\frac{\\partial \\log Z}{\\partial Z} \n",
      "\\frac{\\partial Z}{\\partial \\log q_j}\n",
      "$\n",
      "\n",
      "Complete the above derivations for $\\delta^q_j$ by furtherly developing $\\frac{\\partial \\log Z}{\\partial Z}$ and $\\frac{\\partial Z}{\\partial \\log q_j}$. Both are quite simple. For these it doesn't matter whether $j = t^{(i)}$ or not.\n",
      "__See below__\n",
      "\n",
      "\n",
      "Given your equations for computing the gradients $\\delta^q_j$ it should be quite straightforward to derive the equations for the gradients of the parameters of the model, $\\frac{\\partial \\mathcal{L}^{(i)}}{\\partial W_{ij}}$ and $\\frac{\\partial \\mathcal{L}^{(i)}}{\\partial b_j}$. The gradients for the biases $\\bb$ are given by:\n",
      "\n",
      "$\n",
      "\\frac{\\partial \\mathcal{L}^{(i)}}{\\partial b_j}\n",
      "= \\frac{\\partial \\mathcal{L}^{(i)}}{\\partial \\log q_j}\n",
      "\\frac{\\partial \\log q_j}{\\partial b_j}\n",
      "= \\delta^q_j\n",
      "\\cdot 1\n",
      "= \\delta^q_j\n",
      "$\n",
      "\n",
      "The equation above gives the derivative of $\\mathcal{L}^{(i)}$ w.r.t. a single element of $\\bb$, so the vector $\\nabla_\\bb \\mathcal{L}^{(i)}$ with all derivatives of $\\mathcal{L}^{(i)}$ w.r.t. the bias parameters $\\bb$ is: \n",
      "\n",
      "$\n",
      "\\nabla_\\bb \\mathcal{L}^{(i)} = \\mathbf{\\delta}^q\n",
      "$\n",
      "\n",
      "where $\\mathbf{\\delta}^q$ denotes the vector of size $10 \\times 1$ with elements $\\mathbf{\\delta}_j^q$.\n",
      "\n",
      "The (not fully developed) equation for computing the derivative of $\\mathcal{L}^{(i)}$ w.r.t. a single element $W_{ij}$ of $\\bW$ is:\n",
      "\n",
      "$\n",
      "\\frac{\\partial \\mathcal{L}^{(i)}}{\\partial W_{ij}} =\n",
      "\\frac{\\partial \\mathcal{L}^{(i)}}{\\partial \\log q_j}\n",
      "\\frac{\\partial \\log q_j}{\\partial W_{ij}}\n",
      "= \\mathbf{\\delta}_j^q\n",
      "\\frac{\\partial \\log q_j}{\\partial W_{ij}}\n",
      "$\n",
      "\n",
      "What is $\\frac{\\partial \\log q_j}{\\partial W_{ij}}$? Complete the equation above. __See below!__\n",
      "\n",
      "If you want, you can give the resulting equation in vector format ($\\nabla_{\\bw_j} \\mathcal{L}^{(i)} = ...$), like we did for $\\nabla_\\bb \\mathcal{L}^{(i)}$."
     ]
    },
    {
     "cell_type": "markdown",
     "metadata": {},
     "source": [
      "Answer for j = t(i):\n",
      "$$\n",
      "\\delta^q_j=\n",
      "1 - \\frac{\\partial \\log Z}{\\partial Z} \\frac{\\partial Z}{\\partial \\log q_j}=\n",
      "1 - \\frac{1}{Z} \\times \\frac{\\partial \\sum_k \\exp(\\log q_k)}{\\partial \\log q_j}=\n",
      "1 - \\frac{1}{Z} \\times \\exp(\\log q_j)=\n",
      "1 - \\frac{q_j}{\\sum_k q_k}\n",
      "$$\n",
      "And thus:\n",
      "$$\n",
      "\\delta^q_j\n",
      "- \\frac{\\partial \\log Z}{\\partial Z} \\frac{\\partial Z}{\\partial \\log q_j}=\n",
      "- \\frac{q_j}{\\sum_k q_k}\n",
      "$$"
     ]
    },
    {
     "cell_type": "markdown",
     "metadata": {},
     "source": [
      "Calculating $\\frac{\\partial \\log q_j}{\\partial W_{ij}}$:\n",
      "$$\n",
      "\\frac{\\partial \\log q_j}{\\partial W_{ij}} = \\frac{\\partial( \\bw_j^T \\bx + b_j)}{\\partial W_{ij}} = \\bx_i\n",
      "$$\n",
      "And then:\n",
      "$$\n",
      "\\frac{\\partial \\mathcal{L}^{(i)}}{\\partial W_{ij}} = \\mathbf{\\delta}_j^q\n",
      "\\frac{\\partial \\log q_j}{\\partial W_{ij}} = \\mathbf{\\delta}_j^q\\bx_i\n",
      "$$"
     ]
    },
    {
     "cell_type": "markdown",
     "metadata": {},
     "source": [
      "### 1.1.2 Implement gradient computations (10 points)\n",
      "\n",
      "Implement the gradient calculations you derived in the previous question. Write a function `logreg_gradient(x, t, w, b)` that returns the gradients $\\nabla_{\\bw_j} \\mathcal{L}^{(i)}$ (for each $j$) and $\\nabla_{\\bb} \\mathcal{L}^{(i)}$, i.e. the first partial derivatives of the log-likelihood w.r.t. the parameters $\\bW$ and $\\bb$, evaluated at a single datapoint (`x`, `t`).\n",
      "The computation will contain roughly the following intermediate variables:\n",
      "\n",
      "$\n",
      "\\log \\bq \\rightarrow Z \\rightarrow \\log \\bp \\rightarrow \\mathbf{\\delta}^q\n",
      "$\n",
      "\n",
      "followed by computation of the gradient vectors $\\nabla_{\\bw_j} \\mathcal{L}^{(i)}$ (contained in a $784 \\times 10$ matrix) and $\\nabla_{\\bb} \\mathcal{L}^{(i)}$ (a $10 \\times 1$ vector).\n"
     ]
    },
    {
     "cell_type": "code",
     "collapsed": false,
     "input": [
      "def logreg_gradient(x, t, w, b):\n",
      "    K = 10\n",
      "    log_p, log_q, log_Z = log_partial_probability(x, w, b)\n",
      "    \n",
      "    q = numpy.exp(log_q)\n",
      "    Z = numpy.exp(log_Z)\n",
      "    p = np.exp(log_p);\n",
      "    \n",
      "    t_oh = onehot(t,numclasses=K)\n",
      "    delta_q = t_oh - p;\n",
      "\n",
      "    gradient_wrt_w = numpy.matrix(x).T * numpy.matrix(delta_q)\n",
      "    gradient_wrt_b = delta_q\n",
      "    \n",
      "    return gradient_wrt_w, gradient_wrt_b\n",
      "\n",
      "def log_partial_probability(x, w, b):\n",
      "    log_q = w.T.dot(x) + b\n",
      "    a = numpy.max(log_q)\n",
      "    log_Z = a + numpy.log(numpy.sum(numpy.exp(log_q - a)))\n",
      "    log_p = log_q - log_Z\n",
      "    \n",
      "    return log_p, log_q, log_Z"
     ],
     "language": "python",
     "metadata": {},
     "outputs": [],
     "prompt_number": 5
    },
    {
     "cell_type": "code",
     "collapsed": false,
     "input": [
      "M = 784\n",
      "i = 1\n",
      "x = x_train[i,:]\n",
      "t = t_train[i]\n",
      "w = np.random.sample([M, 10])*2\n",
      "b = np.random.sample(10)\n",
      "\n",
      "[gradient_wrt_w, gradient_wrt_b] = logreg_gradient(x, t, w, b)\n",
      "print 'results'\n",
      "print gradient_wrt_w, gradient_wrt_b"
     ],
     "language": "python",
     "metadata": {},
     "outputs": [
      {
       "output_type": "stream",
       "stream": "stdout",
       "text": [
        "results\n",
        "[[ 0.  0.  0. ...,  0.  0.  0.]\n",
        " [ 0.  0.  0. ...,  0.  0.  0.]\n",
        " [ 0.  0.  0. ...,  0.  0.  0.]\n",
        " ..., \n",
        " [ 0.  0.  0. ...,  0.  0.  0.]\n",
        " [ 0.  0.  0. ...,  0.  0.  0.]\n",
        " [ 0.  0.  0. ...,  0.  0.  0.]] [[  9.99998053e-01  -1.23209769e-06  -4.95910366e-01  -3.51185399e-01\n",
        "   -1.89607167e-03  -1.70655609e-03  -7.86608741e-05  -1.15470328e-04\n",
        "   -2.14160627e-04  -1.48890136e-01]]\n"
       ]
      }
     ],
     "prompt_number": 6
    },
    {
     "cell_type": "markdown",
     "metadata": {},
     "source": [
      "\n",
      "### 1.1.3 Stochastic gradient descent (10 points)\n",
      "\n",
      "Write a function `sgd_iter(x_train, t_train, w, b)` that performs one iteration of stochastic gradient descent (SGD), and returns the new weights. It should go through the trainingset once in randomized order, call `logreg_gradient(x, t, w, b)` for each datapoint to get the gradients, and update the parameters using a small learning rate (e.g. `1E-4`). Note that in this case we're maximizing the likelihood function, so we should actually performing gradient _ascent_.."
     ]
    },
    {
     "cell_type": "code",
     "collapsed": false,
     "input": [
      "def sgd_iter(x_train, t_train, w, b):\n",
      "    learning_rate = 10**(-4) # Learning rate of 1E-4\n",
      "    rand_index = np.random.permutation(x_train.shape[0])\n",
      "\n",
      "    for n in rand_index:\n",
      "        gradient_wrt_w, gradient_wrt_b = logreg_gradient(x_train[n], t_train[n], w, b)\n",
      "        w = w + learning_rate*gradient_wrt_w\n",
      "        b = b + learning_rate*gradient_wrt_b\n",
      "    return w,b"
     ],
     "language": "python",
     "metadata": {},
     "outputs": [],
     "prompt_number": 7
    },
    {
     "cell_type": "markdown",
     "metadata": {},
     "source": [
      "## 1.2. Train\n",
      "\n",
      "### 1.2.1 Train (10 points)\n",
      "Perform a handful of training iterations through the trainingset. Plot (in one graph) the conditional log-probability of the trainingset and validation set after each iteration.\n"
     ]
    },
    {
     "cell_type": "code",
     "collapsed": false,
     "input": [
      "def train(x_train,t_train,x_valid,t_valid,iters):\n",
      "    M = 784\n",
      "    #initialize weights\n",
      "#     w = np.random.sample([M, 10])\n",
      "#     b = np.random.sample(10)\n",
      "    w = np.zeros([M, 10])\n",
      "    b = np.zeros(10)\n",
      "    plot_likelihoods = np.zeros([iters,2]);\n",
      "\n",
      "    for i in range(iters):\n",
      "        w, b = sgd_iter(x_train, t_train, w, b)\n",
      "        plot_likelihoods[i,0] = total_log_prob(w, b, x_train, t_train)\n",
      "        plot_likelihoods[i,1] = total_log_prob(w, b, x_valid, t_valid)\n",
      "        print \"Iteration \"+str(i)+\" done. current train-likelihood = \" + str(plot_likelihoods[i,0]) + \". Current valid-likelihood = \" + str(plot_likelihoods[i,1])\n",
      "    \n",
      "    return w,b,plot_likelihoods\n",
      "    \n",
      "def total_log_prob(w, b, x, t):\n",
      "    K = 10; # number of classes\n",
      "    N = x.shape[0] #number of datapoints\n",
      "    \n",
      "#    log_q = x.dot(w) + np.tile(b,(N,1))\n",
      "#    a = numpy.max(log_q,1)\n",
      "#    a_tiled = np.tile(a,(K,1)).T\n",
      "#    log_Z = a + numpy.sum(numpy.exp(log_q) - a_tiled, axis=1)    \n",
      "#    log_p = log_q[np.arange(len(log_q)), t.T] - log_Z\n",
      "#    sum_logp = np.sum(log_p)]\n",
      "\n",
      "    total_log_likelihood = 0\n",
      "    \n",
      "    for i in range(N):\n",
      "        log_p, log_q, log_Z = log_partial_probability(x[i,:], w, b)  \n",
      "        log_p = log_p.T\n",
      "        total_log_likelihood = total_log_likelihood + log_p[t[i]]\n",
      "\n",
      "    return total_log_likelihood"
     ],
     "language": "python",
     "metadata": {},
     "outputs": [],
     "prompt_number": 8
    },
    {
     "cell_type": "code",
     "collapsed": false,
     "input": [
      "iters = 5\n",
      "w_trained, b_trained, plot_likelihoods = train(x_train,t_train,x_valid,t_valid,iters)\n",
      "plt.plot(range(iters),plot_likelihoods[:,0],'o-',label='Train');\n",
      "plt.plot(range(iters),plot_likelihoods[:,1],'o-',label='Valid');\n",
      "plt.legend();\n",
      "plt.show();"
     ],
     "language": "python",
     "metadata": {},
     "outputs": [
      {
       "output_type": "stream",
       "stream": "stdout",
       "text": [
        "Iteration 0 done. current train-likelihood = -40581.1097272. Current valid-likelihood = -7647.35157695\n",
        "Iteration 1 done. current train-likelihood = -31000.8840216. Current valid-likelihood = -5712.41894782"
       ]
      },
      {
       "output_type": "stream",
       "stream": "stdout",
       "text": [
        "\n",
        "Iteration 2 done. current train-likelihood = -27080.620316. Current valid-likelihood = -4949.32458986"
       ]
      },
      {
       "output_type": "stream",
       "stream": "stdout",
       "text": [
        "\n",
        "Iteration 3 done. current train-likelihood = -24875.2637403. Current valid-likelihood = -4528.3955544"
       ]
      },
      {
       "output_type": "stream",
       "stream": "stdout",
       "text": [
        "\n",
        "Iteration 4 done. current train-likelihood = -23404.5179567. Current valid-likelihood = -4256.55578611"
       ]
      },
      {
       "output_type": "stream",
       "stream": "stdout",
       "text": [
        "\n"
       ]
      },
      {
       "metadata": {},
       "output_type": "display_data",
       "png": "[encoded data removed]",
       "text": [
        "<matplotlib.figure.Figure at 0x10485c6d0>"
       ]
      }
     ],
     "prompt_number": 9
    },
    {
     "cell_type": "markdown",
     "metadata": {},
     "source": [
      "### 1.2.2 Visualize weights (10 points)\n",
      "Visualize the resulting parameters $\\bW$ after a few iterations through the training set, by treating each column of $\\bW$ as an image. If you want, you can use or edit the `plot_digits(...)` above."
     ]
    },
    {
     "cell_type": "code",
     "collapsed": false,
     "input": [
      "\n",
      "def plot_weights(w, numcols, shape=(28,28)):\n",
      "    numdigits = w.shape[1]\n",
      "    numrows = int(numdigits/numcols)\n",
      "    figure(figsize=(15,9), dpi=72)\n",
      "    for i in range(numdigits): \n",
      "        plt.subplot(numrows, numcols, i)\n",
      "        plt.axis('off')\n",
      "        plt.title('j='+str(i));\n",
      "        plt.imshow(w[:,i].reshape(shape), interpolation='nearest', cmap='Greys')\n",
      "    \n",
      "    plt.show()\n",
      "plot_weights(w_trained, numcols=5)"
     ],
     "language": "python",
     "metadata": {},
     "outputs": [
      {
       "metadata": {},
       "output_type": "display_data",
       "png": "[encoded data removed]",
       "text": [
        "<matplotlib.figure.Figure at 0x1067e10d0>"
       ]
      }
     ],
     "prompt_number": 10
    },
    {
     "cell_type": "code",
     "collapsed": false,
     "input": [
      "# Make a random prediction\n",
      "i = 4550\n",
      "shape=(28,28)\n",
      "plt.imshow(x_valid[i].reshape(shape), interpolation='nearest', cmap='Greys')\n",
      "\n",
      "predict = np.matrix(w_trained).T.dot(np.matrix(x_valid[i]).T) + b_trained.T\n",
      "print predict\n",
      "print np.where(predict == max(predict))\n",
      "print t_valid[i]"
     ],
     "language": "python",
     "metadata": {},
     "outputs": [
      {
       "output_type": "stream",
       "stream": "stdout",
       "text": [
        "[[ 0.72018051]\n",
        " [-3.73591367]\n",
        " [-1.31790488]\n",
        " [ 2.28788649]\n",
        " [-0.3837151 ]\n",
        " [ 3.19101786]\n",
        " [ 0.15850131]\n",
        " [-3.753526  ]\n",
        " [ 3.12832851]\n",
        " [-0.29485505]]\n",
        "(matrix([[5]]), matrix([[0]]))\n",
        "8\n"
       ]
      },
      {
       "metadata": {},
       "output_type": "display_data",
       "png": "[encoded data removed]",
       "text": [
        "<matplotlib.figure.Figure at 0x105525c10>"
       ]
      }
     ],
     "prompt_number": 11
    },
    {
     "cell_type": "markdown",
     "metadata": {},
     "source": [
      "### 1.2.3. Visualize the 8 hardest and 8 easiest digits (10 points)\n",
      "Visualize the 8 digits in the validation set with the highest probability of the true class label under the model.\n",
      "Also plot the 8 digits that were assigned the lowest probability.\n",
      "Ask yourself if these results make sense."
     ]
    },
    {
     "cell_type": "code",
     "collapsed": false,
     "input": [
      "predictions = np.matrix(x_valid).dot(np.matrix(w_trained)) + b_trained\n",
      "\n",
      "valid_class_props = predictions[:,[t_valid]]\n",
      "\n",
      "sorted_probs = np.argsort(valid_class_props,0);\n",
      "\n",
      "worst = sorted_probs[0:8];\n",
      "best =sorted_probs[-8:];\n",
      "print('Best:');\n",
      "plot_digits(x_valid[best], numcols=8)\n",
      "\n",
      "print('Worst:');\n",
      "plot_digits(x_valid[worst], numcols=8)"
     ],
     "language": "python",
     "metadata": {},
     "outputs": [
      {
       "output_type": "stream",
       "stream": "stdout",
       "text": [
        "Best:\n"
       ]
      },
      {
       "metadata": {},
       "output_type": "display_data",
       "png": "[encoded data removed]",
       "text": [
        "<matplotlib.figure.Figure at 0x10688a5d0>"
       ]
      },
      {
       "output_type": "stream",
       "stream": "stdout",
       "text": [
        "Worst:\n"
       ]
      },
      {
       "metadata": {},
       "output_type": "display_data",
       "png": "[encoded data removed]",
       "text": [
        "<matplotlib.figure.Figure at 0x106879950>"
       ]
      }
     ],
     "prompt_number": 12
    },
    {
     "cell_type": "markdown",
     "metadata": {},
     "source": [
      "# Part 2. Multilayer perceptron\n",
      "\n",
      "\n",
      "You discover that the predictions by the logistic regression classifier are not good enough for your application: the model is too simple. You want to increase the accuracy of your predictions by using a better model. For this purpose, you're going to use a multilayer perceptron (MLP), a simple kind of neural network. The perceptron wil have a single hidden layer $\\bh$ with $L$ elements. The parameters of the model are $\\bV$ (connections between input $\\bx$ and hidden layer $\\bh$), $\\ba$ (the biases/intercepts of $\\bh$), $\\bW$ (connections between $\\bh$ and $\\log q$) and $\\bb$ (the biases/intercepts of $\\log q$.\n",
      "\n",
      "The conditional probability of the class label $j$ is given by:\n",
      "\n",
      "$\\log p(t = j \\;|\\; \\bx, \\bb, \\bW) = \\log q_j - \\log Z$\n",
      "\n",
      "where $q_j$ are again the unnormalized probabilities per class, and $Z = \\sum_j q_j$ is again the probability normalizing factor. Each $q_j$ is computed using:\n",
      "\n",
      "$\\log q_j = \\bw_j^T \\bh + b_j$\n",
      "\n",
      "where $\\bh$ is a $L \\times 1$ vector with the hidden layer activations (of a hidden layer with size $L$), and $\\bw_j$ is the $j$-th column of $\\bW$ (a $L \\times 10$ matrix). Each element of the hidden layer is computed from the input vector $\\bx$ using:\n",
      "\n",
      "$h_j = \\sigma(\\bv_j^T \\bx + a_j)$\n",
      "\n",
      "where $\\bv_j$ is the $j$-th column of $\\bV$ (a $784 \\times L$ matrix), $a_j$ is the $j$-th element of $\\ba$, and $\\sigma(.)$ is the so-called sigmoid activation function, defined by:\n",
      "\n",
      "$\\sigma(x) = \\frac{1}{1 + \\exp(-x)}$\n",
      "\n",
      "Note that this model is almost equal to the multiclass logistic regression model, but with an extra 'hidden layer' $\\bh$. The activations of this hidden layer can be viewed as features computed from the input, where the feature transformation ($\\bV$ and $\\ba$) is learned.\n",
      "\n",
      "## 2.1 Derive gradient equations (20 points)\n",
      "\n",
      "State (shortly) why $\\nabla_{\\bb} \\mathcal{L}^{(i)}$ is equal to the earlier (multiclass logistic regression) case, and why $\\nabla_{\\bw_j} \\mathcal{L}^{(i)}$ is almost equal to the earlier case.\n",
      "\n",
      "Like in multiclass logistic regression, you should use intermediate variables $\\mathbf{\\delta}_j^q$. In addition, you should use intermediate variables $\\mathbf{\\delta}_j^h = \\frac{\\partial \\mathcal{L}^{(i)}}{\\partial h_j}$.\n",
      "\n",
      "Given an input image, roughly the following intermediate variables should be computed:\n",
      "\n",
      "$\n",
      "\\log \\bq \\rightarrow Z \\rightarrow \\log \\bp \\rightarrow \\mathbf{\\delta}^q \\rightarrow \\mathbf{\\delta}^h\n",
      "$\n",
      "\n",
      "where $\\mathbf{\\delta}_j^h = \\frac{\\partial \\mathcal{L}^{(i)}}{\\partial \\bh_j}$.\n",
      "\n",
      "Give the equations for computing $\\mathbf{\\delta}^h$, and for computing the derivatives of $\\mathcal{L}^{(i)}$ w.r.t. $\\bW$, $\\bb$, $\\bV$ and $\\ba$. \n",
      "\n",
      "You can use the convenient fact that $\\frac{\\partial}{\\partial x} \\sigma(x) = \\sigma(x) (1 - \\sigma(x))$.\n"
     ]
    },
    {
     "cell_type": "markdown",
     "metadata": {},
     "source": [
      "Answer:\n",
      "The derivative of $\\mathcal{L}^{(i)}$ wrt $\\bb$ stays the same, because $\\bx$ is substituted by $\\bh$, which doesn't depend on $\\bb$.\n",
      "\n",
      "The derivative of $\\mathcal{L}^{(i)}$ wrt $\\bW$ stays almost equal, because $\\bx$ is substituded by $\\bh$ which results in:\n",
      "\n",
      "$$\n",
      "\\frac{\\partial \\mathcal{L}^{(i)}}{\\partial W_{ij}} = \\mathbf{\\delta}_j^q\\bh_i\n",
      "$$\n",
      "\n",
      "Because W now depends on the amount of hidden units, the dimension of W now is Lx10."
     ]
    },
    {
     "cell_type": "markdown",
     "metadata": {},
     "source": [
      "Give the equations for computing $\\mathbf{\\delta}^h$, and for computing the derivatives of $\\mathcal{L}^{(i)}$ w.r.t. $\\bW$, $\\bb$, $\\bV$ and $\\ba$. \n",
      "\n",
      "$$\n",
      "\\mathbf{\\delta}^h_j = \\mathbf{\\delta}_j^q\\bw_j\\\\\n",
      "\\mathbf{\\delta}^h = \\mathbf{\\delta}^q\\bw^T\n",
      "$$\n",
      "\n",
      "w.r.t. $\\bW$:\n",
      "$$\n",
      "\\frac{d \\mathcal{L}^{(i)}}{d\\bW}=\\mathbf{\\delta}^q\\bh\n",
      "$$\n",
      "\n",
      "w.r.t. $\\bb$:\n",
      "$$\n",
      "\\frac{d \\mathcal{L}^{(i)}}{d\\bb}=\\mathbf{\\delta}^q\n",
      "$$\n",
      "\n",
      "w.r.t. $\\bV$:\n",
      "$$\n",
      "\\frac{d \\mathcal{L}^{(i)}}{d\\bV_j}=\\frac{d \\mathcal{L}^{(i)}}{d\\bh_j}\\times\\frac{d\\bh_j}{d\\bV_j}=\\mathbf{\\delta}^h_j \\times \\bx   \\bh_j(1-\\bh_j) \\\\\n",
      "\\frac{d \\mathcal{L}^{(i)}}{d\\bV} = \\left(\\bx \\circ \\bh \\circ (1-\\bh)\\right) \\circ \\mathbf{\\delta}^h \n",
      "$$\n",
      "\n",
      "w.r.t. $\\ba$:\n",
      "$$\n",
      "\\frac{d \\mathcal{L}^{(i)}}{d\\ba}=\\mathbf{\\delta}^h  \\times \\sigma(\\bv_j^T\\bx + a_j)(1-\\sigma(\\bv_j^T\\bx + a_j))\n",
      "$$\n"
     ]
    },
    {
     "cell_type": "markdown",
     "metadata": {},
     "source": [
      "## 2.2 MAP optimization (10 points)\n",
      "\n",
      "You derived equations for finding the _maximum likelihood_ solution of the parameters. Explain, in a few sentences, how you could extend this approach so that it optimizes towards a _maximum a posteriori_ (MAP) solution of the parameters, with a Gaussian prior on the parameters. "
     ]
    },
    {
     "cell_type": "markdown",
     "metadata": {},
     "source": [
      "<!-- Answer:\n",
      "To get a MAP solution we need to either introduce a regularization term or introduce a prior on the parameters and maximize the likelihood times the prior.\n",
      "#_TODO: longer answer!_ (see p 257-259) -->\n",
      "\n",
      "Answer:\n",
      "\n",
      "Above the model parameters have been obtain by maximized the _likelihood_ function, which is the same as minimizing the _negative log_ of the likelihood function, a.k.a. the _error function_. To optimize towards a _maximum a posteriori_ (MAP) solution a _regulizer_ can be added to the error function, such as the _weight decay_\n",
      "\n",
      "$$ \\frac\\alpha 2 \\sum_{w\\in \\mathbf{W}} w^{2} $$\n",
      "\n",
      "making a _regularized error function_.\n",
      "\n",
      "Minizing this regularized error function is the same as maximizing the _posterior distribution_ with a gaussian _prior_\n",
      "\n",
      "$$ p(\\mathbf{W}|\\alpha) = \\mathcal{N}(\\mathbf{W}|\\mathbf{0},\\alpha^{-1}\\mathbf{I})$$\n"
     ]
    },
    {
     "cell_type": "markdown",
     "metadata": {},
     "source": [
      "## 2.3. Implement and train a MLP (15 points)\n",
      "\n",
      "Implement a MLP model with a single hidden layer, and code to train the model."
     ]
    },
    {
     "cell_type": "code",
     "collapsed": false,
     "input": [
      "input_units  = 784\n",
      "hidden_units = 20 # Amount of units in the hidden layer\n",
      "output_units = 10\n",
      "def sigmoid(a):\n",
      "  return 1 / (1 + numpy.exp(-a))\n",
      "\n",
      "def log_partial(x, w, b, v, a):\n",
      "    h = sigmoid(x.dot(v) + a).T;\n",
      "    log_q = w.T.dot(h) + b\n",
      "    \n",
      "    a_norm = numpy.max(log_q)\n",
      "    log_Z = a_norm + numpy.log(numpy.sum(numpy.exp(log_q - a_norm)))\n",
      "    log_p = log_q - log_Z\n",
      "    return log_p, h\n",
      "\n",
      "def mlp_gradients(x, t, w, b, v, a):\n",
      "    log_p, h = log_partial(x, w, b, v, a)\n",
      "    p = np.exp(log_p)\n",
      "    \n",
      "    t_oh = onehot(t,numclasses=output_units)\n",
      "# Shouldn't delta_q be p - t. (yk - tk)\n",
      "    delta_q = (p.T - t_oh) # (t_oh - p.T)\n",
      "    \n",
      "    delta_h = delta_q.dot(w.T)  \n",
      "    grad_w = h.dot(delta_q)\n",
      "    grad_b = delta_q.T\n",
      "    \n",
      "    x = np.matrix(x).T\n",
      "    h_grad = np.multiply(h,(1-h)).T\n",
      "    x_scaled = np.multiply(x,h_grad)\n",
      "    grad_v = np.multiply(x_scaled,delta_h)\n",
      "    grad_a = np.multiply(h_grad,delta_h)\n",
      "    \n",
      "    return grad_w,grad_b,grad_v,grad_a\n",
      "\n",
      "def mlp_sgd_iter(x_train, t_train, w, b, v, a):\n",
      "    learning_rate = 10**(-4) # Learning rate of 1E-4\n",
      "    rand_index = np.random.permutation(x_train.shape[0])\n",
      "\n",
      "    for n in rand_index:\n",
      "        grad_w,grad_b,grad_v,grad_a = mlp_gradients(x_train[n], t_train[n], w, b, v, a)\n",
      "        w = w + learning_rate*grad_w\n",
      "        b = b + learning_rate*grad_b\n",
      "        v = v + learning_rate*grad_v\n",
      "        a = a + learning_rate*grad_a\n",
      "    return w,b,v,a\n",
      "\n",
      "    \n",
      "def total_log_likelihood(x, t, w, b, v, a):\n",
      "    N = x.shape[0] #number of datapoints\n",
      "\n",
      "    total_log_likelihood = 0\n",
      "    \n",
      "    for i in range(N):\n",
      "        log_p, h = log_partial(x[i], w, b, v, a)\n",
      "        total_log_likelihood = total_log_likelihood + log_p[t[i]]\n",
      "\n",
      "    return total_log_likelihood\n",
      "\n",
      "\n",
      "def train(x_train,t_train, x_valid, t_valid,iters):\n",
      "    # Intialize weights\n",
      "    w = np.matrix(np.zeros([hidden_units, output_units]))\n",
      "    b = np.matrix(np.zeros(output_units)).T\n",
      "    v = np.matrix(np.zeros([input_units, hidden_units]))\n",
      "    a = np.matrix(np.zeros(hidden_units))\n",
      "    \n",
      "    plot_likelihoods = np.zeros([iters+1,2]);\n",
      "    \n",
      "    plot_likelihoods[0,0] = total_log_likelihood(x_train, t_train, w, b, v, a)\n",
      "    plot_likelihoods[0,1] = total_log_likelihood(x_valid, t_valid, w, b, v, a)\n",
      "    for i in range(iters):\n",
      "        w, b, v, a = mlp_sgd_iter(x_train, t_train, w, b, v, a)\n",
      "        plot_likelihoods[i+1,0] = total_log_likelihood(x_train, t_train, w, b, v, a)\n",
      "        plot_likelihoods[i+1,1] = total_log_likelihood(x_valid, t_valid, w, b, v, a)\n",
      "        print \"Iteration \"+str(i)+\" done. current train-likelihood = \" + str(plot_likelihoods[i,0]) + \". Current valid-likelihood = \" + str(plot_likelihoods[i,1])\n",
      "    \n",
      "    return w,b,v,a,plot_likelihoods"
     ],
     "language": "python",
     "metadata": {},
     "outputs": [],
     "prompt_number": 22
    },
    {
     "cell_type": "code",
     "collapsed": false,
     "input": [
      "iters = 3\n",
      "w,b,v,a,plot_likelihoods = train(x_train,t_train, x_valid, t_valid, iters)\n",
      "plt.plot(range(iters+1),plot_likelihoods[:,0],'o-',label='Train');\n",
      "plt.plot(range(iters+1),plot_likelihoods[:,1],'o-',label='Valid');\n",
      "plt.legend();\n",
      "plt.show();"
     ],
     "language": "python",
     "metadata": {},
     "outputs": [
      {
       "output_type": "stream",
       "stream": "stdout",
       "text": [
        "Iteration 0 done. current train-likelihood = -115129.25465. Current valid-likelihood = -23025.8509299\n",
        "Iteration 1 done. current train-likelihood = -543198.615301. Current valid-likelihood = -108156.556623"
       ]
      },
      {
       "output_type": "stream",
       "stream": "stdout",
       "text": [
        "\n",
        "Iteration 2 done. current train-likelihood = -5330863.03274. Current valid-likelihood = -1064520.75261"
       ]
      },
      {
       "output_type": "stream",
       "stream": "stdout",
       "text": [
        "\n"
       ]
      },
      {
       "metadata": {},
       "output_type": "display_data",
       "png": "[encoded data removed]",
       "text": [
        "<matplotlib.figure.Figure at 0x1067f0210>"
       ]
      }
     ],
     "prompt_number": 23
    },
    {
     "cell_type": "code",
     "collapsed": false,
     "input": [
      "i = 3\n",
      "x = x_valid[i]\n",
      "t = t_valid[i]\n",
      "log_p, h = log_partial(x, w, b, v, a)\n",
      "print t\n",
      "print log_p, np.argmin(log_p)\n",
      "plot_weights(v, numcols=10)"
     ],
     "language": "python",
     "metadata": {},
     "outputs": [
      {
       "output_type": "stream",
       "stream": "stdout",
       "text": [
        "9\n",
        "[[-215.93760489]\n",
        " [-221.63242153]\n",
        " [-216.31922691]\n",
        " [-218.13357787]\n",
        " [-215.66617238]\n",
        " [   0.        ]\n",
        " [-216.13912943]\n",
        " [-218.36363149]\n",
        " [-215.14773633]\n",
        " [-217.1079554 ]] 1\n"
       ]
      },
      {
       "metadata": {},
       "output_type": "display_data",
       "png": "[encoded data removed]",
       "text": [
        "<matplotlib.figure.Figure at 0x10d2922d0>"
       ]
      }
     ],
     "prompt_number": 21
    },
    {
     "cell_type": "markdown",
     "metadata": {},
     "source": [
      "### 2.3.1. Less than 250 misclassifications on the test set (10 bonus points)\n",
      "\n",
      "You receive an additional 10 bonus points if you manage to train a model with very high accuracy: at most 2.5% misclasified digits on the test set. Note that the test set contains 10000 digits, so you model should misclassify at most 250 digits. This should be achievable with a MLP model with one hidden layer. See results of various models at : `http://yann.lecun.com/exdb/mnist/index.html`. To reach such a low accuracy, you probably need to have a very high $L$ (many hidden units), probably $L > 200$, and apply a strong Gaussian prior on the weights. In this case you are allowed to use the validation set for training.\n",
      "You are allowed to add additional layers, and use convolutional networks, although that is probably not required to reach 2.5% misclassifications."
     ]
    },
    {
     "cell_type": "code",
     "collapsed": false,
     "input": [],
     "language": "python",
     "metadata": {},
     "outputs": []
    }
   ],
   "metadata": {}
  }
 ]
}