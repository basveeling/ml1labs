{
 "metadata": {
  "kernelspec": {
   "codemirror_mode": {
    "name": "ipython",
    "version": 2
   },
   "display_name": "IPython (Python 2)",
   "language": "python",
   "name": "python2"
  },
  "name": "",
  "signature": "sha256:4f813dc30aa58d499d4f0a7c945c8e7ceec1cf6c0096e9d3902bcb26940f6cc2"
 },
 "nbformat": 3,
 "nbformat_minor": 0,
 "worksheets": [
  {
   "cells": [
    {
     "cell_type": "markdown",
     "metadata": {},
     "source": [
      "# Lab 2: Classification\n",
      "\n",
      "### Machine Learning and Pattern Recognition, September 2014\n",
      "\n",
      "* The lab exercises should be made in groups of two or three people.\n",
      "* The deadline is October 5th (sunday) 23:59.\n",
      "* Assignment should be sent to taco.cohen@gmail.com. The subject line of your email should be \"lab\\#\\_lastname1\\_lastname2\\_lastname3\".\n",
      "* Put your and your teammates' names in the body of the email\n",
      "* Attach the .IPYNB (IPython Notebook) file containing your code and answers. Naming of the file follows the same rule as the subject line. For example, if the subject line is \"lab01\\_Kingma\\_Hu\", the attached file should be \"lab01\\_Kingma\\_Hu.ipynb\". Only use underscores (\"\\_\") to connect names, otherwise the files cannot be parsed.\n",
      "\n",
      "Notes on implementation:\n",
      "\n",
      "* You should write your code and answers in an IPython Notebook: http://ipython.org/notebook.html. If you have problems, please contact us.\n",
      "* Among the first lines of your notebook should be \"%pylab inline\". This imports all required modules, and your plots will appear inline.\n",
      "* NOTE: Make sure we can run your notebook / scripts!\n",
      "\n",
      "$\\newcommand{\\bx}{\\mathbf{x}}$\n",
      "$\\newcommand{\\bw}{\\mathbf{w}}$\n",
      "$\\newcommand{\\bt}{\\mathbf{t}}$\n",
      "$\\newcommand{\\by}{\\mathbf{y}}$\n",
      "$\\newcommand{\\bm}{\\mathbf{m}}$\n",
      "$\\newcommand{\\bb}{\\mathbf{b}}$\n",
      "$\\newcommand{\\bS}{\\mathbf{S}}$\n",
      "$\\newcommand{\\ba}{\\mathbf{a}}$\n",
      "$\\newcommand{\\bz}{\\mathbf{z}}$\n",
      "$\\newcommand{\\bv}{\\mathbf{v}}$\n",
      "$\\newcommand{\\bq}{\\mathbf{q}}$\n",
      "$\\newcommand{\\bp}{\\mathbf{p}}$\n",
      "$\\newcommand{\\bh}{\\mathbf{h}}$\n",
      "\n",
      "$\\newcommand{\\bI}{\\mathbf{I}}$\n",
      "$\\newcommand{\\bX}{\\mathbf{X}}$\n",
      "$\\newcommand{\\bT}{\\mathbf{T}}$\n",
      "$\\newcommand{\\bPhi}{\\mathbf{\\Phi}}$\n",
      "$\\newcommand{\\bW}{\\mathbf{W}}$\n",
      "$\\newcommand{\\bV}{\\mathbf{V}}$"
     ]
    },
    {
     "cell_type": "code",
     "collapsed": false,
     "input": [
      "%pylab inline\n",
      "import gzip, cPickle\n",
      "# SOURCE: http://www.iro.umontreal.ca/~memisevr/code/logreg.py\n",
      "def onehot(x,numclasses=None):\n",
      "    \"\"\" Convert integer encoding for class-labels (starting with 0 !)\n",
      "        to one-hot encoding. \n",
      "      \n",
      "        If numclasses (the number of classes) is not provided, it is assumed \n",
      "        to be equal to the largest class index occuring in the labels-array + 1.\n",
      "        The output is an array who's shape is the shape of the input array plus\n",
      "        an extra dimension, containing the 'one-hot'-encoded labels. \n",
      "    \"\"\"\n",
      "    if x.shape==():\n",
      "        x = x[None]\n",
      "    if numclasses is None:\n",
      "        numclasses = x.max() + 1\n",
      "    result = numpy.zeros(list(x.shape) + [numclasses], dtype=\"int\")\n",
      "    z = numpy.zeros(x.shape)\n",
      "    for c in range(numclasses):\n",
      "        z *= 0\n",
      "        z[numpy.where(x==c)] = 1\n",
      "        result[...,c] += z\n",
      "    return result"
     ],
     "language": "python",
     "metadata": {},
     "outputs": [
      {
       "output_type": "stream",
       "stream": "stdout",
       "text": [
        "Populating the interactive namespace from numpy and matplotlib\n"
       ]
      }
     ],
     "prompt_number": 1
    },
    {
     "cell_type": "markdown",
     "metadata": {},
     "source": [
      "# Part 1. Multiclass logistic regression\n",
      "\n",
      "Scenario: you have a friend with one big problem: she's completely blind. You decided to help her: she has a special smartphone for blind people, and you are going to develop a mobile phone app that can do _machine vision_ using the mobile camera: converting a picture (from the camera) to the meaning of the image. You decide to start with an app that can read handwritten digits, i.e. convert an image of handwritten digits to text (e.g. it would enable her to read precious handwritten phone numbers).\n",
      "\n",
      "A key building block for such an app would be a function `predict_digit(x)` that returns the digit class of an image patch $\\bx$. Since hand-coding this function is highly non-trivial, you decide to solve this problem using machine learning, such that the internal parameters of this function are automatically learned using machine learning techniques.\n",
      "\n",
      "The dataset you're going to use for this is the MNIST handwritten digits dataset (`http://yann.lecun.com/exdb/mnist/`). You can load the data from `mnist.pkl.gz` we provided, using: "
     ]
    },
    {
     "cell_type": "code",
     "collapsed": false,
     "input": [
      "def load_mnist():\n",
      "\tf = gzip.open('mnist.pkl.gz', 'rb')\n",
      "\tdata = cPickle.load(f)\n",
      "\tf.close()\n",
      "\treturn data\n",
      "\n",
      "(x_train, t_train), (x_valid, t_valid), (x_test, t_test) = load_mnist()"
     ],
     "language": "python",
     "metadata": {},
     "outputs": [],
     "prompt_number": 2
    },
    {
     "cell_type": "markdown",
     "metadata": {},
     "source": [
      "The tuples represent train, validation and test sets. The first element (`x_train`, `x_valid`, `x_test`) of each tuple is a $N \\times M$ matrix, where $N$ is the number of datapoints and $M = 28^2 = 784$ is the dimensionality of the data. The second element (`t_train`, `t_valid`, `t_test`) of each tuple is the corresponding $N$-dimensional vector of integers, containing the true class labels.\n",
      "\n",
      "Here's a visualisation of the first 8 digits of the trainingset:"
     ]
    },
    {
     "cell_type": "code",
     "collapsed": false,
     "input": [
      "def plot_digits(data, numcols, shape=(28,28)):\n",
      "    numdigits = data.shape[0]\n",
      "    numrows = int(numdigits/numcols)\n",
      "    for i in range(numdigits):\n",
      "        plt.subplot(numrows, numcols, i)\n",
      "        plt.axis('off')\n",
      "        plt.imshow(data[i].reshape(shape), interpolation='nearest', cmap='Greys')\n",
      "    plt.show()\n",
      "    \n",
      "plot_digits(x_train[0:8], numcols=4)\n"
     ],
     "language": "python",
     "metadata": {},
     "outputs": [
      {
       "output_type": "stream",
       "stream": "stderr",
       "text": [
        "/Users/bas/Dropbox/projects/virtualenvs/ml1/lib/python2.7/site-packages/matplotlib/axes/_subplots.py:69: MatplotlibDeprecationWarning: The use of 0 (which ends up being the _last_ sub-plot) is deprecated in 1.4 and will raise an error in 1.5\n",
        "  mplDeprecation)\n"
       ]
      },
      {
       "metadata": {},
       "output_type": "display_data",
       "png": "[encoded data removed]",
       "text": [
        "<matplotlib.figure.Figure at 0x103897410>"
       ]
      }
     ],
     "prompt_number": 52
    },
    {
     "cell_type": "markdown",
     "metadata": {},
     "source": [
      "In _multiclass_ logistic regression, the conditional probability of class label $j$ given the image $\\bx$ for some datapoint is given by:\n",
      "\n",
      "$ \\log p(t = j \\;|\\; \\bx, \\bb, \\bW) = \\log q_j - \\log Z$\n",
      "\n",
      "where $\\log q_j = \\bw_j^T \\bx + b_j$ (the log of the unnormalized probability of the class $j$), and $Z = \\sum_k q_k$ is the normalizing factor. $\\bw_j$ is the $j$-th column of $\\bW$ (a matrix of size $784 \\times 10$) corresponding to the class label, $b_j$ is the $j$-th element of $\\bb$.\n",
      "\n",
      "Given an input image, the multiclass logistic regression model first computes the intermediate vector $\\log \\bq$ (of size $10 \\times 1$), using $\\log q_j = \\bw_j^T \\bx + b_j$, containing the unnormalized log-probabilities per class. \n",
      "\n",
      "The unnormalized probabilities are then normalized by $Z$ such that $\\sum_j p_j = \\sum_j \\exp(\\log p_j) = 1$. This is done by $\\log p_j = \\log q_j - \\log Z$ where $Z = \\sum_j \\exp(\\log q_j)$. This is known as the _softmax_ transformation, and is also used as a last layer of many classifcation neural network models, to ensure that the output of the network is a normalized distribution, regardless of the values of second-to-last layer ($\\log \\bq$)\n",
      "\n",
      "Warning: when computing $\\log Z$, you are likely to encounter numerical problems. Save yourself countless hours of debugging and learn the [log-sum-exp trick](https://hips.seas.harvard.edu/blog/2013/01/09/computing-log-sum-exp/ \"Title\").\n",
      "\n",
      "The network's output $\\log \\bp$ of size $10 \\times 1$ then contains the conditional log-probabilities $\\log p(t = j \\;|\\; \\bx, \\bb, \\bW)$ for each digit class $j$. In summary, the computations are done in this order:\n",
      "\n",
      "$\\bx \\rightarrow \\log \\bq \\rightarrow Z \\rightarrow \\log \\bp$\n",
      "\n",
      "Given some dataset with $N$ independent, identically distributed datapoints, the log-likelihood is given by:\n",
      "\n",
      "$ \\mathcal{L}(\\bb, \\bW) = \\sum_{i=1}^N \\mathcal{L}^{(i)}$\n",
      "\n",
      "where we use $\\mathcal{L}^{(i)}$ to denote the partial log-likelihood evaluated over a single datapoint. It is important to see that the log-probability of the class label $t^{(i)}$ given the image, is given by the $t^{(i)}$-th element of the network's output $\\log \\bp$, denoted by $\\log p_{t^{(i)}}$:\n",
      "\n",
      "$\\mathcal{L}^{(i)} = \\log p(t = t^{(i)} \\;|\\; \\bx = \\bx^{(i)}, \\bb, \\bW) = \\log p_{t^{(i)}} = \\log q_{t^{(i)}} - \\log Z^{(i)}$\n",
      "\n",
      "where $\\bx^{(i)}$ and $t^{(i)}$ are the input (image) and class label (integer) of the $i$-th datapoint, and $Z^{(i)}$ is the normalizing constant for the distribution over $t^{(i)}$.\n"
     ]
    },
    {
     "cell_type": "markdown",
     "metadata": {},
     "source": [
      "## 1.1 Gradient-based stochastic optimization\n",
      "\n",
      "### 1.1.1 Derive gradient equations (20 points)\n",
      "\n",
      "Derive the equations for computing the (first) partial derivatives of the log-likelihood w.r.t. all the parameters, evaluated at a _single_ datapoint $i$.\n",
      "\n",
      "You should start deriving the equations for $\\frac{\\partial \\mathcal{L}^{(i)}}{\\partial \\log q_j}$ for each $j$. For clarity, we'll use the shorthand $\\delta^q_j = \\frac{\\partial \\mathcal{L}^{(i)}}{\\partial \\log q_j}$.\n",
      "\n",
      "For $j = t^{(i)}$:\n",
      "$\n",
      "\\delta^q_j\n",
      "= \\frac{\\partial \\mathcal{L}^{(i)}}{\\partial \\log p_j}\n",
      "\\frac{\\partial \\log p_j}{\\partial \\log q_j}\n",
      "+ \\frac{\\partial \\mathcal{L}^{(i)}}{\\partial \\log Z}\n",
      "\\frac{\\partial \\log Z}{\\partial Z} \n",
      "\\frac{\\partial Z}{\\partial \\log q_j} \n",
      "= 1 \\cdot 1 - \\frac{\\partial \\log Z}{\\partial Z} \n",
      "\\frac{\\partial Z}{\\partial \\log q_j}\n",
      "= 1 - \\frac{\\partial \\log Z}{\\partial Z} \n",
      "\\frac{\\partial Z}{\\partial \\log q_j}\n",
      "$\n",
      "\n",
      "For $j \\neq t^{(i)}$:\n",
      "$\n",
      "\\delta^q_j\n",
      "= \\frac{\\partial \\mathcal{L}^{(i)}}{\\partial \\log Z}\n",
      "\\frac{\\partial \\log Z}{\\partial Z} \n",
      "\\frac{\\partial Z}{\\partial \\log q_j} \n",
      "= - \\frac{\\partial \\log Z}{\\partial Z} \n",
      "\\frac{\\partial Z}{\\partial \\log q_j}\n",
      "$\n",
      "\n",
      "Complete the above derivations for $\\delta^q_j$ by furtherly developing $\\frac{\\partial \\log Z}{\\partial Z}$ and $\\frac{\\partial Z}{\\partial \\log q_j}$. Both are quite simple. For these it doesn't matter whether $j = t^{(i)}$ or not.\n",
      "__See below__\n",
      "\n",
      "\n",
      "Given your equations for computing the gradients $\\delta^q_j$ it should be quite straightforward to derive the equations for the gradients of the parameters of the model, $\\frac{\\partial \\mathcal{L}^{(i)}}{\\partial W_{ij}}$ and $\\frac{\\partial \\mathcal{L}^{(i)}}{\\partial b_j}$. The gradients for the biases $\\bb$ are given by:\n",
      "\n",
      "$\n",
      "\\frac{\\partial \\mathcal{L}^{(i)}}{\\partial b_j}\n",
      "= \\frac{\\partial \\mathcal{L}^{(i)}}{\\partial \\log q_j}\n",
      "\\frac{\\partial \\log q_j}{\\partial b_j}\n",
      "= \\delta^q_j\n",
      "\\cdot 1\n",
      "= \\delta^q_j\n",
      "$\n",
      "\n",
      "The equation above gives the derivative of $\\mathcal{L}^{(i)}$ w.r.t. a single element of $\\bb$, so the vector $\\nabla_\\bb \\mathcal{L}^{(i)}$ with all derivatives of $\\mathcal{L}^{(i)}$ w.r.t. the bias parameters $\\bb$ is: \n",
      "\n",
      "$\n",
      "\\nabla_\\bb \\mathcal{L}^{(i)} = \\mathbf{\\delta}^q\n",
      "$\n",
      "\n",
      "where $\\mathbf{\\delta}^q$ denotes the vector of size $10 \\times 1$ with elements $\\mathbf{\\delta}_j^q$.\n",
      "\n",
      "The (not fully developed) equation for computing the derivative of $\\mathcal{L}^{(i)}$ w.r.t. a single element $W_{ij}$ of $\\bW$ is:\n",
      "\n",
      "$\n",
      "\\frac{\\partial \\mathcal{L}^{(i)}}{\\partial W_{ij}} =\n",
      "\\frac{\\partial \\mathcal{L}^{(i)}}{\\partial \\log q_j}\n",
      "\\frac{\\partial \\log q_j}{\\partial W_{ij}}\n",
      "= \\mathbf{\\delta}_j^q\n",
      "\\frac{\\partial \\log q_j}{\\partial W_{ij}}\n",
      "$\n",
      "\n",
      "What is $\\frac{\\partial \\log q_j}{\\partial W_{ij}}$? Complete the equation above. __See below!__\n",
      "\n",
      "If you want, you can give the resulting equation in vector format ($\\nabla_{\\bw_j} \\mathcal{L}^{(i)} = ...$), like we did for $\\nabla_\\bb \\mathcal{L}^{(i)}$."
     ]
    },
    {
     "cell_type": "markdown",
     "metadata": {},
     "source": [
      "Answer for j = t(i):\n",
      "$$\n",
      "\\delta^q_j=\n",
      "1 - \\frac{\\partial \\log Z}{\\partial Z} \\frac{\\partial Z}{\\partial \\log q_j}=\n",
      "1 - \\frac{1}{Z} \\times \\frac{\\partial \\sum_k \\exp(\\log q_k)}{\\partial \\log q_j}=\n",
      "1 - \\frac{1}{Z} \\times \\exp(\\log q_j)=\n",
      "1 - \\frac{q_j}{\\sum_k q_k}\n",
      "$$\n",
      "And thus:\n",
      "$$\n",
      "\\delta^q_j = \n",
      "- \\frac{\\partial \\log Z}{\\partial Z} \\frac{\\partial Z}{\\partial \\log q_j}=\n",
      "- \\frac{q_j}{\\sum_k q_k}\n",
      "$$"
     ]
    },
    {
     "cell_type": "markdown",
     "metadata": {},
     "source": [
      "Calculating $\\frac{\\partial \\log q_j}{\\partial W_{ij}}$:\n",
      "$$\n",
      "\\frac{\\partial \\log q_j}{\\partial W_{ij}} = \\frac{\\partial( \\bw_j^T \\bx + b_j)}{\\partial W_{ij}} = \\bx_i\n",
      "$$\n",
      "And then:\n",
      "$$\n",
      "\\frac{\\partial \\mathcal{L}^{(i)}}{\\partial W_{ij}} = \\mathbf{\\delta}_j^q\n",
      "\\frac{\\partial \\log q_j}{\\partial W_{ij}} = \\mathbf{\\delta}_j^q\\bx_i\n",
      "$$"
     ]
    },
    {
     "cell_type": "markdown",
     "metadata": {},
     "source": [
      "### 1.1.2 Implement gradient computations (10 points)\n",
      "\n",
      "Implement the gradient calculations you derived in the previous question. Write a function `logreg_gradient(x, t, w, b)` that returns the gradients $\\nabla_{\\bw_j} \\mathcal{L}^{(i)}$ (for each $j$) and $\\nabla_{\\bb} \\mathcal{L}^{(i)}$, i.e. the first partial derivatives of the log-likelihood w.r.t. the parameters $\\bW$ and $\\bb$, evaluated at a single datapoint (`x`, `t`).\n",
      "The computation will contain roughly the following intermediate variables:\n",
      "\n",
      "$\n",
      "\\log \\bq \\rightarrow Z \\rightarrow \\log \\bp \\rightarrow \\mathbf{\\delta}^q\n",
      "$\n",
      "\n",
      "followed by computation of the gradient vectors $\\nabla_{\\bw_j} \\mathcal{L}^{(i)}$ (contained in a $784 \\times 10$ matrix) and $\\nabla_{\\bb} \\mathcal{L}^{(i)}$ (a $10 \\times 1$ vector).\n"
     ]
    },
    {
     "cell_type": "code",
     "collapsed": false,
     "input": [
      "def logreg_gradient(x, t, w, b):\n",
      "    K = 10\n",
      "    log_p, log_q, log_Z = log_partial_probability(x, w, b)\n",
      "    \n",
      "    q = numpy.exp(log_q)\n",
      "    Z = numpy.exp(log_Z)\n",
      "    p = np.exp(log_p);\n",
      "    \n",
      "    t_oh = onehot(t,numclasses=K)\n",
      "    delta_q = t_oh - p;\n",
      "\n",
      "    gradient_wrt_w = numpy.matrix(x).T * numpy.matrix(delta_q)\n",
      "    gradient_wrt_b = delta_q\n",
      "    \n",
      "    return gradient_wrt_w, gradient_wrt_b\n",
      "\n",
      "def log_partial_probability(x, w, b):\n",
      "    log_q = w.T.dot(x) + b\n",
      "    a = numpy.max(log_q)\n",
      "    log_Z = a + numpy.log(numpy.sum(numpy.exp(log_q - a)))\n",
      "    log_p = log_q - log_Z\n",
      "    \n",
      "    return log_p, log_q, log_Z"
     ],
     "language": "python",
     "metadata": {},
     "outputs": [],
     "prompt_number": 4
    },
    {
     "cell_type": "code",
     "collapsed": false,
     "input": [
      "M = 784\n",
      "i = 1\n",
      "x = x_train[i,:]\n",
      "t = t_train[i]\n",
      "w = np.random.sample([M, 10])*2\n",
      "b = np.random.sample(10)\n",
      "\n",
      "[gradient_wrt_w, gradient_wrt_b] = logreg_gradient(x, t, w, b)\n",
      "print 'results'\n",
      "print gradient_wrt_w, gradient_wrt_b"
     ],
     "language": "python",
     "metadata": {},
     "outputs": [
      {
       "output_type": "stream",
       "stream": "stdout",
       "text": [
        "results\n",
        "[[ 0.  0.  0. ...,  0.  0.  0.]\n",
        " [ 0.  0.  0. ...,  0.  0.  0.]\n",
        " [ 0.  0.  0. ...,  0.  0.  0.]\n",
        " ..., \n",
        " [ 0.  0.  0. ...,  0.  0.  0.]\n",
        " [ 0.  0.  0. ...,  0.  0.  0.]\n",
        " [ 0.  0.  0. ...,  0.  0.  0.]] [[  9.99742843e-01  -4.06496361e-09  -9.94689969e-01  -2.11109737e-04\n",
        "   -1.02468804e-06  -1.82180100e-05  -2.14019735e-06  -7.23308091e-06\n",
        "   -4.80079698e-03  -1.23466405e-05]]\n"
       ]
      }
     ],
     "prompt_number": 5
    },
    {
     "cell_type": "markdown",
     "metadata": {},
     "source": [
      "\n",
      "### 1.1.3 Stochastic gradient descent (10 points)\n",
      "\n",
      "Write a function `sgd_iter(x_train, t_train, w, b)` that performs one iteration of stochastic gradient descent (SGD), and returns the new weights. It should go through the trainingset once in randomized order, call `logreg_gradient(x, t, w, b)` for each datapoint to get the gradients, and update the parameters using a small learning rate (e.g. `1E-4`). Note that in this case we're maximizing the likelihood function, so we should actually performing gradient _ascent_.."
     ]
    },
    {
     "cell_type": "code",
     "collapsed": false,
     "input": [
      "def sgd_iter(x_train, t_train, w, b):\n",
      "    learning_rate = 10**(-4) # Learning rate of 1E-4\n",
      "    rand_index = np.random.permutation(x_train.shape[0])\n",
      "\n",
      "    for n in rand_index:\n",
      "        gradient_wrt_w, gradient_wrt_b = logreg_gradient(x_train[n], t_train[n], w, b)\n",
      "        w = w + learning_rate*gradient_wrt_w\n",
      "        b = b + learning_rate*gradient_wrt_b\n",
      "    return w,b"
     ],
     "language": "python",
     "metadata": {},
     "outputs": [],
     "prompt_number": 6
    },
    {
     "cell_type": "markdown",
     "metadata": {},
     "source": [
      "## 1.2. Train\n",
      "\n",
      "### 1.2.1 Train (10 points)\n",
      "Perform a handful of training iterations through the trainingset. Plot (in one graph) the conditional log-probability of the trainingset and validation set after each iteration.\n"
     ]
    },
    {
     "cell_type": "code",
     "collapsed": false,
     "input": [
      "def train(x_train,t_train,x_valid,t_valid,iters):\n",
      "    M = 784\n",
      "    #initialize weights\n",
      "#     w = np.random.sample([M, 10])\n",
      "#     b = np.random.sample(10)\n",
      "    w = np.zeros([M, 10])\n",
      "    b = np.zeros(10)\n",
      "    plot_likelihoods = np.zeros([iters,2]);\n",
      "\n",
      "    for i in range(iters):\n",
      "        w, b = sgd_iter(x_train, t_train, w, b)\n",
      "        plot_likelihoods[i,0] = total_log_prob(w, b, x_train, t_train)\n",
      "        plot_likelihoods[i,1] = total_log_prob(w, b, x_valid, t_valid)\n",
      "        print \"Iteration \"+str(i)+\" done. current train-likelihood = \" + str(plot_likelihoods[i,0]) + \". Current valid-likelihood = \" + str(plot_likelihoods[i,1])\n",
      "    \n",
      "    return w,b,plot_likelihoods\n",
      "    \n",
      "def total_log_prob(w, b, x, t):\n",
      "    K = 10; # number of classes\n",
      "    N = x.shape[0] #number of datapoints\n",
      "    \n",
      "#    log_q = x.dot(w) + np.tile(b,(N,1))\n",
      "#    a = numpy.max(log_q,1)\n",
      "#    a_tiled = np.tile(a,(K,1)).T\n",
      "#    log_Z = a + numpy.sum(numpy.exp(log_q) - a_tiled, axis=1)    \n",
      "#    log_p = log_q[np.arange(len(log_q)), t.T] - log_Z\n",
      "#    sum_logp = np.sum(log_p)]\n",
      "\n",
      "    total_log_likelihood = 0\n",
      "    \n",
      "    for i in range(N):\n",
      "        log_p, log_q, log_Z = log_partial_probability(x[i,:], w, b)  \n",
      "        log_p = log_p.T\n",
      "        total_log_likelihood = total_log_likelihood + log_p[t[i]]\n",
      "\n",
      "    return total_log_likelihood"
     ],
     "language": "python",
     "metadata": {},
     "outputs": [],
     "prompt_number": 146
    },
    {
     "cell_type": "code",
     "collapsed": false,
     "input": [
      "iters = 5\n",
      "w_trained, b_trained, plot_likelihoods = train(x_train,t_train,x_valid,t_valid,iters)\n",
      "plt.plot(range(iters),plot_likelihoods[:,0],'o-',label='Train');\n",
      "plt.plot(range(iters),plot_likelihoods[:,1],'o-',label='Valid');\n",
      "plt.legend();\n",
      "plt.show();"
     ],
     "language": "python",
     "metadata": {},
     "outputs": [
      {
       "output_type": "stream",
       "stream": "stdout",
       "text": [
        "Iteration 0 done. current train-likelihood = -40566.8612147. Current valid-likelihood = -7647.42627073\n",
        "Iteration 1 done. current train-likelihood = -30982.3003877. Current valid-likelihood = -5711.65137033\n",
        "Iteration 2 done. current train-likelihood = -27080.8990319. Current valid-likelihood = -4950.16833273\n",
        "Iteration 3 done. current train-likelihood = -24873.8194431. Current valid-likelihood = -4525.93841223\n",
        "Iteration 4 done. current train-likelihood = -23407.572865. Current valid-likelihood = -4255.88029795\n"
       ]
      },
      {
       "metadata": {},
       "output_type": "display_data",
       "png": "[encoded data removed]",
       "text": [
        "<matplotlib.figure.Figure at 0x10bead3d0>"
       ]
      }
     ],
     "prompt_number": 10
    },
    {
     "cell_type": "markdown",
     "metadata": {},
     "source": [
      "### 1.2.2 Visualize weights (10 points)\n",
      "Visualize the resulting parameters $\\bW$ after a few iterations through the training set, by treating each column of $\\bW$ as an image. If you want, you can use or edit the `plot_digits(...)` above."
     ]
    },
    {
     "cell_type": "code",
     "collapsed": false,
     "input": [
      "\n",
      "def plot_weights(w, numcols, shape=(28,28)):\n",
      "    numdigits = w.shape[1]\n",
      "    numrows = int(numdigits/numcols)\n",
      "    figure(figsize=(15,9), dpi=72)\n",
      "    for i in range(numdigits): \n",
      "        plt.subplot(numrows, numcols, i)\n",
      "        plt.axis('off')\n",
      "        plt.title('j='+str(i));\n",
      "        plt.imshow(w[:,i].reshape(shape), interpolation='nearest', cmap='Greys')\n",
      "    \n",
      "    plt.show()\n",
      "plot_weights(w_trained, numcols=5)"
     ],
     "language": "python",
     "metadata": {},
     "outputs": [
      {
       "ename": "NameError",
       "evalue": "name 'w_trained' is not defined",
       "output_type": "pyerr",
       "traceback": [
        "\u001b[0;31m---------------------------------------------------------------------------\u001b[0m",
        "\u001b[0;31mNameError\u001b[0m                                 Traceback (most recent call last)",
        "\u001b[0;32m<ipython-input-53-e563192bb516>\u001b[0m in \u001b[0;36m<module>\u001b[0;34m()\u001b[0m\n\u001b[1;32m     11\u001b[0m \u001b[0;34m\u001b[0m\u001b[0m\n\u001b[1;32m     12\u001b[0m     \u001b[0mplt\u001b[0m\u001b[0;34m.\u001b[0m\u001b[0mshow\u001b[0m\u001b[0;34m(\u001b[0m\u001b[0;34m)\u001b[0m\u001b[0;34m\u001b[0m\u001b[0m\n\u001b[0;32m---> 13\u001b[0;31m \u001b[0mplot_weights\u001b[0m\u001b[0;34m(\u001b[0m\u001b[0mw_trained\u001b[0m\u001b[0;34m,\u001b[0m \u001b[0mnumcols\u001b[0m\u001b[0;34m=\u001b[0m\u001b[0;36m5\u001b[0m\u001b[0;34m)\u001b[0m\u001b[0;34m\u001b[0m\u001b[0m\n\u001b[0m",
        "\u001b[0;31mNameError\u001b[0m: name 'w_trained' is not defined"
       ]
      }
     ],
     "prompt_number": 53
    },
    {
     "cell_type": "code",
     "collapsed": false,
     "input": [
      "# Make a random prediction\n",
      "i = 55\n",
      "shape=(28,28)\n",
      "plt.imshow(x_valid[i].reshape(shape), interpolation='nearest', cmap='Greys')\n",
      "\n",
      "predict = np.matrix(w_trained).T.dot(np.matrix(x_valid[i]).T) + b_trained.T\n",
      "print predict\n",
      "print np.where(predict == max(predict))\n",
      "print t_valid[i]"
     ],
     "language": "python",
     "metadata": {},
     "outputs": [
      {
       "output_type": "stream",
       "stream": "stdout",
       "text": [
        "[[-2.23691713]\n",
        " [ 4.44503548]\n",
        " [-0.14622511]\n",
        " [ 0.62104738]\n",
        " [-1.98554393]\n",
        " [ 0.10308719]\n",
        " [-0.18273942]\n",
        " [-0.72599386]\n",
        " [ 0.59036911]\n",
        " [-0.48211971]]\n",
        "(matrix([[1]]), matrix([[0]]))\n",
        "1\n"
       ]
      },
      {
       "metadata": {},
       "output_type": "display_data",
       "png": "[encoded data removed]",
       "text": [
        "<matplotlib.figure.Figure at 0x10c6d8450>"
       ]
      }
     ],
     "prompt_number": 255
    },
    {
     "cell_type": "markdown",
     "metadata": {},
     "source": [
      "### 1.2.3. Visualize the 8 hardest and 8 easiest digits (10 points)\n",
      "Visualize the 8 digits in the validation set with the highest probability of the true class label under the model.\n",
      "Also plot the 8 digits that were assigned the lowest probability.\n",
      "Ask yourself if these results make sense."
     ]
    },
    {
     "cell_type": "code",
     "collapsed": false,
     "input": [
      "predictions = np.matrix(x_valid).dot(np.matrix(w_trained)) + b_trained\n",
      "\n",
      "valid_class_props = predictions[:,[t_valid]]\n",
      "\n",
      "sorted_probs = np.argsort(valid_class_props,0);\n",
      "\n",
      "worst = sorted_probs[0:8];\n",
      "best =sorted_probs[-8:];\n",
      "print('Best:');\n",
      "plot_digits(x_valid[best], numcols=8)\n",
      "\n",
      "print('Worst:');\n",
      "plot_digits(x_valid[worst], numcols=8)"
     ],
     "language": "python",
     "metadata": {},
     "outputs": [
      {
       "output_type": "stream",
       "stream": "stdout",
       "text": [
        "Best:\n"
       ]
      },
      {
       "metadata": {},
       "output_type": "display_data",
       "png": "[encoded data removed]",
       "text": [
        "<matplotlib.figure.Figure at 0x1078e7650>"
       ]
      },
      {
       "output_type": "stream",
       "stream": "stdout",
       "text": [
        "Worst:\n"
       ]
      },
      {
       "metadata": {},
       "output_type": "display_data",
       "png": "[encoded data removed]",
       "text": [
        "<matplotlib.figure.Figure at 0x10c98f790>"
       ]
      }
     ],
     "prompt_number": 16
    },
    {
     "cell_type": "markdown",
     "metadata": {},
     "source": [
      "# Part 2. Multilayer perceptron\n",
      "\n",
      "\n",
      "You discover that the predictions by the logistic regression classifier are not good enough for your application: the model is too simple. You want to increase the accuracy of your predictions by using a better model. For this purpose, you're going to use a multilayer perceptron (MLP), a simple kind of neural network. The perceptron wil have a single hidden layer $\\bh$ with $L$ elements. The parameters of the model are $\\bV$ (connections between input $\\bx$ and hidden layer $\\bh$), $\\ba$ (the biases/intercepts of $\\bh$), $\\bW$ (connections between $\\bh$ and $\\log q$) and $\\bb$ (the biases/intercepts of $\\log q$.\n",
      "\n",
      "The conditional probability of the class label $j$ is given by:\n",
      "\n",
      "$\\log p(t = j \\;|\\; \\bx, \\bb, \\bW) = \\log q_j - \\log Z$\n",
      "\n",
      "where $q_j$ are again the unnormalized probabilities per class, and $Z = \\sum_j q_j$ is again the probability normalizing factor. Each $q_j$ is computed using:\n",
      "\n",
      "$\\log q_j = \\bw_j^T \\bh + b_j$\n",
      "\n",
      "where $\\bh$ is a $L \\times 1$ vector with the hidden layer activations (of a hidden layer with size $L$), and $\\bw_j$ is the $j$-th column of $\\bW$ (a $L \\times 10$ matrix). Each element of the hidden layer is computed from the input vector $\\bx$ using:\n",
      "\n",
      "$h_j = \\sigma(\\bv_j^T \\bx + a_j)$\n",
      "\n",
      "where $\\bv_j$ is the $j$-th column of $\\bV$ (a $784 \\times L$ matrix), $a_j$ is the $j$-th element of $\\ba$, and $\\sigma(.)$ is the so-called sigmoid activation function, defined by:\n",
      "\n",
      "$\\sigma(x) = \\frac{1}{1 + \\exp(-x)}$\n",
      "\n",
      "Note that this model is almost equal to the multiclass logistic regression model, but with an extra 'hidden layer' $\\bh$. The activations of this hidden layer can be viewed as features computed from the input, where the feature transformation ($\\bV$ and $\\ba$) is learned.\n",
      "\n",
      "## 2.1 Derive gradient equations (20 points)\n",
      "\n",
      "State (shortly) why $\\nabla_{\\bb} \\mathcal{L}^{(i)}$ is equal to the earlier (multiclass logistic regression) case, and why $\\nabla_{\\bw_j} \\mathcal{L}^{(i)}$ is almost equal to the earlier case.\n",
      "\n",
      "Like in multiclass logistic regression, you should use intermediate variables $\\mathbf{\\delta}_j^q$. In addition, you should use intermediate variables $\\mathbf{\\delta}_j^h = \\frac{\\partial \\mathcal{L}^{(i)}}{\\partial h_j}$.\n",
      "\n",
      "Given an input image, roughly the following intermediate variables should be computed:\n",
      "\n",
      "$\n",
      "\\log \\bq \\rightarrow Z \\rightarrow \\log \\bp \\rightarrow \\mathbf{\\delta}^q \\rightarrow \\mathbf{\\delta}^h\n",
      "$\n",
      "\n",
      "where $\\mathbf{\\delta}_j^h = \\frac{\\partial \\mathcal{L}^{(i)}}{\\partial \\bh_j}$.\n",
      "\n",
      "Give the equations for computing $\\mathbf{\\delta}^h$, and for computing the derivatives of $\\mathcal{L}^{(i)}$ w.r.t. $\\bW$, $\\bb$, $\\bV$ and $\\ba$. \n",
      "\n",
      "You can use the convenient fact that $\\frac{\\partial}{\\partial x} \\sigma(x) = \\sigma(x) (1 - \\sigma(x))$.\n"
     ]
    },
    {
     "cell_type": "markdown",
     "metadata": {},
     "source": [
      "Answer:\n",
      "The derivative of $\\mathcal{L}^{(i)}$ wrt $\\bb$ stays the same, because $\\bx$ is substituted by $\\bh$, which doesn't depend on $\\bb$.\n",
      "\n",
      "The derivative of $\\mathcal{L}^{(i)}$ wrt $\\bW$ stays almost equal, because $\\bx$ is substituded by $\\bh$ which results in:\n",
      "\n",
      "$$\n",
      "\\frac{\\partial \\mathcal{L}^{(i)}}{\\partial W_{ij}} = \\mathbf{\\delta}_j^q\\bh_i\n",
      "$$\n",
      "\n",
      "Because W now depends on the amount of hidden units, the dimension of W now is Lx10."
     ]
    },
    {
     "cell_type": "markdown",
     "metadata": {},
     "source": [
      "Give the equations for computing $\\mathbf{\\delta}^h$, and for computing the derivatives of $\\mathcal{L}^{(i)}$ w.r.t. $\\bW$, $\\bb$, $\\bV$ and $\\ba$. \n",
      "\n",
      "$$\n",
      "\\mathbf{\\delta}^h_j = \\mathbf{\\delta}_j^q\\bw_j\\\\\n",
      "\\mathbf{\\delta}^h = \\mathbf{\\delta}^q\\bw^T\n",
      "$$\n",
      "\n",
      "w.r.t. $\\bW$:\n",
      "$$\n",
      "\\frac{d \\mathcal{L}^{(i)}}{d\\bW}=\\mathbf{\\delta}^q\\bh\n",
      "$$\n",
      "\n",
      "w.r.t. $\\bb$:\n",
      "$$\n",
      "\\frac{d \\mathcal{L}^{(i)}}{d\\bb}=\\mathbf{\\delta}^q\n",
      "$$\n",
      "\n",
      "w.r.t. $\\bV$:\n",
      "$$\n",
      "\\frac{d \\mathcal{L}^{(i)}}{d\\bV_j}=\\frac{d \\mathcal{L}^{(i)}}{d\\bh_j}\\times\\frac{d\\bh_j}{d\\bV_j}=\\mathbf{\\delta}^h_j \\times \\bx\\bh_j(1-\\bh_j) \\\\\n",
      "\\frac{d \\mathcal{L}^{(i)}}{d\\bV} = \\bx \\times \\left(\\bh \\circ (1-\\bh) \\circ \\mathbf{\\delta}^h \\right)\n",
      "$$\n",
      "\n",
      "w.r.t. $\\ba$:\n",
      "$$\n",
      "\\frac{d \\mathcal{L}^{(i)}}{d\\ba}=\\mathbf{\\delta}^h  \\times \\sigma(\\bv_j^T\\bx + a_j)(1-\\sigma(\\bv_j^T\\bx + a_j))\n",
      "$$\n"
     ]
    },
    {
     "cell_type": "markdown",
     "metadata": {},
     "source": [
      "## 2.2 MAP optimization (10 points)\n",
      "\n",
      "You derived equations for finding the _maximum likelihood_ solution of the parameters. Explain, in a few sentences, how you could extend this approach so that it optimizes towards a _maximum a posteriori_ (MAP) solution of the parameters, with a Gaussian prior on the parameters. "
     ]
    },
    {
     "cell_type": "markdown",
     "metadata": {},
     "source": [
      "Answer:\n",
      "To get a MAP solution we need to either introduce a regularization term or introduce a prior on the parameters and maximize the likelihood times the prior.\n",
      "#_TODO: longer answer!_ (see p 257-259)"
     ]
    },
    {
     "cell_type": "markdown",
     "metadata": {},
     "source": [
      "## 2.3. Implement and train a MLP (15 points)\n",
      "\n",
      "Implement a MLP model with a single hidden layer, and code to train the model."
     ]
    },
    {
     "cell_type": "code",
     "collapsed": false,
     "input": [
      "def sigmoid(x):\n",
      "  return 1 / (1 + numpy.exp(-x))\n",
      "def log_partial(x, w, b, v, a):\n",
      "    h = sigmoid(x.T.dot(v).T + a)\n",
      "    log_q = w.T.dot(h) + b\n",
      "    \n",
      "    a_norm = numpy.max(log_q)\n",
      "    log_Z = a_norm + numpy.log(numpy.sum(numpy.exp(log_q - a_norm)))\n",
      "    log_p = log_q - log_Z\n",
      "    return log_p, h\n",
      "\n",
      "def mlp_gradients(x, t, w, b, v, a):\n",
      "    x = np.matrix(x).T # Make X a column vector\n",
      "    log_p, h = log_partial(x, w, b, v, a)\n",
      "    p = np.exp(log_p)\n",
      "    \n",
      "    t_oh = onehot(t,numclasses=output_units)\n",
      "\n",
      "    delta_q = (t_oh - p.T)\n",
      "    delta_h = delta_q.dot(w.T)\n",
      "    grad_w = h.dot(delta_q)\n",
      "    grad_b = delta_q.T\n",
      "    \n",
      "    h_grad = np.multiply(h,(1-h))\n",
      "    \n",
      "    grad_a = np.multiply(h_grad,delta_h.T)\n",
      "    grad_v = np.dot(x,grad_a.T)\n",
      "    \n",
      "    return grad_w,grad_b,grad_v,grad_a\n"
     ],
     "language": "python",
     "metadata": {},
     "outputs": [],
     "prompt_number": 165
    },
    {
     "cell_type": "code",
     "collapsed": false,
     "input": [
      "def mlp_sgd_iter(x_train, t_train, w, b, v, a):\n",
      "    learning_rate = 10**(-3) # Learning rate of 1E-4\n",
      "    rand_index = np.random.permutation(x_train.shape[0])\n",
      "\n",
      "    for n in rand_index:\n",
      "        grad_w,grad_b,grad_v,grad_a = mlp_gradients(x_train[n], t_train[n], w, b, v, a)\n",
      "        w = w + learning_rate*grad_w\n",
      "        b = b + learning_rate*grad_b\n",
      "        v = v + learning_rate*grad_v\n",
      "        a = a + learning_rate*grad_a\n",
      "    return w,b,v,a\n",
      "\n",
      "    \n",
      "def total_log_likelihood(x, t, w, b, v, a):\n",
      "    N = x.shape[0] #number of datapoints\n",
      "    total_log_likelihood = 0\n",
      "    \n",
      "    for i in range(N):\n",
      "        log_pt, h = log_partial_t(x[i],t[i], w, b, v, a)\n",
      "        total_log_likelihood = total_log_likelihood + log_pt\n",
      "\n",
      "    return total_log_likelihood\n",
      "\n",
      "\n",
      "def train(x_train,t_train, x_valid, t_valid,iters):\n",
      "    # Intialize weights\n",
      "    w = (np.matrix(np.random.sample([hidden_units, output_units])) - 0.5)*10\n",
      "    b = (np.matrix(np.random.sample(output_units)).T               - 0.5)*10\n",
      "    v = (np.matrix(np.random.sample([input_units, hidden_units]))  - 0.5)*10\n",
      "    a = (np.matrix(np.random.sample(hidden_units)).T               - 0.5)*10\n",
      "#     w = np.matrix(np.zeros([hidden_units, output_units]))\n",
      "#     b = np.matrix(np.zeros(output_units)).T\n",
      "#     v = np.matrix(np.zeros([input_units, hidden_units]))\n",
      "#     a = np.matrix(np.zeros(hidden_units)).T\n",
      "    plot_likelihoods = np.zeros([iters+1,2]);\n",
      "    \n",
      "    plot_likelihoods[0,0] = total_log_likelihood(x_train, t_train, w, b, v, a)\n",
      "    plot_likelihoods[0,1] = total_log_likelihood(x_valid, t_valid, w, b, v, a)\n",
      "    for i in range(iters):\n",
      "        w, b, v, a = mlp_sgd_iter(x_train, t_train, w, b, v, a)\n",
      "        plot_likelihoods[i+1,0] = total_log_likelihood(x_train, t_train, w, b, v, a)\n",
      "        plot_likelihoods[i+1,1] = total_log_likelihood(x_valid, t_valid, w, b, v, a)\n",
      "        print \"Iteration \"+str(i)+\" done. current train-likelihood = \" + \\\n",
      "        str(plot_likelihoods[i+1,0]) + \". Current valid-likelihood = \" + \\\n",
      "        str(plot_likelihoods[i+1,1])\n",
      "    \n",
      "    return w,b,v,a,plot_likelihoods"
     ],
     "language": "python",
     "metadata": {},
     "outputs": [],
     "prompt_number": 166
    },
    {
     "cell_type": "code",
     "collapsed": false,
     "input": [
      "x = x_train[3];\n",
      "t = t_train[3];\n",
      "# w = np.matrix(np.zeros([hidden_units, output_units]))\n",
      "# b = np.matrix(np.zeros(output_units)).T\n",
      "# v = np.matrix(np.zeros([input_units, hidden_units]))\n",
      "# a = np.matrix(np.zeros(hidden_units)).T\n",
      "\n",
      "# print w.shape, b.shape, v.shape, a.shape\n",
      "# grad_w,grad_b,grad_v,grad_a = mlp_gradients(x, t, w, b, v, a)\n",
      "# print grad_w.shape, grad_b.shape, grad_v.shape, grad_a.shape\n",
      "\n",
      "# learning_rate = 10**(-4) # Learning rate of 1E-4\n",
      "# w = w + learning_rate*grad_w\n",
      "# b = b + learning_rate*grad_b\n",
      "# v = v + learning_rate*grad_v\n",
      "# a = a + learning_rate*grad_a\n",
      "# print w.shape, b.shape, v.shape, a.shape\n",
      "# print np.max(grad_v)\n",
      "# trained = w,b,v,a\n",
      "# grad_w,grad_b,grad_v,grad_a = mlp_gradients(x, t, w_trained, b_trained, v_trained, a_trained)\n",
      "# mlp_sgd_iter(x_train, t_train, w_trained, b_trained, v_trained, a_trained)\n",
      "# print \"grad_b\", grad_b\n",
      "# print \"grad_w\", grad_w\n",
      "# print \"grad_a\", grad_a\n",
      "# print log_partial(x, w_trained, b_trained, v_trained, a_trained)\n",
      "plot_weights(grad_v, numcols=10)\n",
      "\n",
      "plot_weights(v_trained, numcols=10)"
     ],
     "language": "python",
     "metadata": {},
     "outputs": [
      {
       "metadata": {},
       "output_type": "display_data",
       "png": "[encoded data removed]",
       "text": [
        "<matplotlib.figure.Figure at 0x10eb84f10>"
       ]
      },
      {
       "metadata": {},
       "output_type": "display_data",
       "png": "[encoded data removed]",
       "text": [
        "<matplotlib.figure.Figure at 0x10eb84690>"
       ]
      }
     ],
     "prompt_number": 168
    },
    {
     "cell_type": "code",
     "collapsed": false,
     "input": [
      "input_units  = 784\n",
      "hidden_units = 20 # Amount of units in the hidden layer\n",
      "output_units = 10\n",
      "iters = 10\n",
      "w_trained,b_trained,v_trained,a_trained,plot_likelihoods = train(x_train[0:5000],t_train[0:5000], x_valid[0:1000], t_valid[0:1000], iters)\n",
      "plt.plot(range(iters+1),plot_likelihoods[:,0],'o-',label='Train');\n",
      "plt.plot(range(iters+1),plot_likelihoods[:,1],'o-',label='Valid');\n",
      "plt.legend();\n",
      "plt.show();"
     ],
     "language": "python",
     "metadata": {},
     "outputs": [
      {
       "output_type": "stream",
       "stream": "stdout",
       "text": [
        "Iteration 0 done. current train-likelihood = -38448.3514305. Current valid-likelihood = -7742.83476673\n",
        "Iteration 1 done. current train-likelihood = -31167.5410424. Current valid-likelihood = -6316.11258163\n",
        "Iteration 2 done. current train-likelihood = -27595.2012783. Current valid-likelihood = -5626.75059743\n",
        "Iteration 3 done. current train-likelihood = -24802.6735188. Current valid-likelihood = -5049.01252726\n",
        "Iteration 4 done. current train-likelihood = -22481.3022906. Current valid-likelihood = -4543.46787548\n",
        "Iteration 5 done. current train-likelihood = -20491.2220638. Current valid-likelihood = -4129.96635551\n",
        "Iteration 6 done. current train-likelihood = -18818.0056547. Current valid-likelihood = -3801.84470198\n",
        "Iteration 7 done. current train-likelihood = -17448.249183. Current valid-likelihood = -3543.10121191\n",
        "Iteration 8 done. current train-likelihood = -16322.1875539. Current valid-likelihood = -3339.93583328\n",
        "Iteration 9 done. current train-likelihood = -15353.3340626. Current valid-likelihood = -3173.01946995\n"
       ]
      },
      {
       "metadata": {},
       "output_type": "display_data",
       "png": "[encoded data removed]",
       "text": [
        "<matplotlib.figure.Figure at 0x10d4eccd0>"
       ]
      }
     ],
     "prompt_number": 150
    },
    {
     "cell_type": "code",
     "collapsed": false,
     "input": [
      "i =200\n",
      "x = x_train[i]\n",
      "t = t_train[i]\n",
      "log_p, h = log_partial(x, w, b, v, a)\n",
      "print t\n",
      "print log_p, np.argmax(log_p)\n",
      "# plot_weights(v, numcols=10)\n",
      "# plot_weights(w, numcols=10,shape=(10,5))"
     ],
     "language": "python",
     "metadata": {},
     "outputs": [
      {
       "output_type": "stream",
       "stream": "stdout",
       "text": [
        "1\n",
        "[[-5.28981373]\n",
        " [-1.85889376]\n",
        " [-1.94674028]\n",
        " [-1.17880701]\n",
        " [-7.33320819]\n",
        " [-4.2726364 ]\n",
        " [-2.7599571 ]\n",
        " [-3.77096861]\n",
        " [-2.28167105]\n",
        " [-1.68366524]] 3\n"
       ]
      }
     ],
     "prompt_number": 144
    },
    {
     "cell_type": "markdown",
     "metadata": {},
     "source": [
      "### 2.3.1. Less than 250 misclassifications on the test set (10 bonus points)\n",
      "\n",
      "You receive an additional 10 bonus points if you manage to train a model with very high accuracy: at most 2.5% misclasified digits on the test set. Note that the test set contains 10000 digits, so you model should misclassify at most 250 digits. This should be achievable with a MLP model with one hidden layer. See results of various models at : `http://yann.lecun.com/exdb/mnist/index.html`. To reach such a low accuracy, you probably need to have a very high $L$ (many hidden units), probably $L > 200$, and apply a strong Gaussian prior on the weights. In this case you are allowed to use the validation set for training.\n",
      "You are allowed to add additional layers, and use convolutional networks, although that is probably not required to reach 2.5% misclassifications."
     ]
    },
    {
     "cell_type": "code",
     "collapsed": false,
     "input": [],
     "language": "python",
     "metadata": {},
     "outputs": []
    }
   ],
   "metadata": {}
  }
 ]
}